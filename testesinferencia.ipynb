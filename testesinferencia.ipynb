{
 "cells": [
  {
   "cell_type": "markdown",
   "metadata": {},
   "source": [
    "Kolmogorov_smirnov\n"
   ]
  },
  {
   "cell_type": "code",
   "execution_count": 1,
   "metadata": {},
   "outputs": [],
   "source": [
    "import numpy as np\n",
    "import pandas as pd\n",
    "\n",
    "from scipy.stats import norm, ksone\n",
    "\"\"\"As funções devem receber somente o conjunto de dados e o aplha, media e desvio padrão devem ser calculados na função\"\"\"\n",
    "def kolmogorov_smirnov(data_values, sample_mean, sample_standard_deviation, alpha):\n",
    "    # Sorting the list of values without duplicates\n",
    "    sorted_data = sorted(data_values)\n",
    "    Xi = sorted(set(sorted_data))\n",
    "    # Calculating the absolute frequency of each value\n",
    "    freq_abs = [sorted_data.count(i) for i in Xi]\n",
    "    # Calculating the cumulative frequency\n",
    "    freq_cumulative = []\n",
    "    for i in range(len(freq_abs)):\n",
    "        if i == 0:\n",
    "            freq_cumulative.append(freq_abs[i])\n",
    "        else:\n",
    "            freq_cumulative.append(freq_abs[i] + freq_cumulative[i-1])\n",
    "   \n",
    "    # Calculating the relative frequency\n",
    "    freq_rel = [x / freq_cumulative[-1] for x in freq_abs]\n",
    "    # Calculating the cumulative relative frequency\n",
    "    freq_rel_cumulative = []\n",
    "    for i in range(len(freq_abs)):\n",
    "            freq_rel_cumulative.append(freq_cumulative[i] / freq_cumulative[-1])\n",
    "    # Calculating the values of Zi\n",
    "    Zi = [(x - sample_mean) / sample_standard_deviation for x in Xi]\n",
    "    # Calculating the expected frequency Fwaited\n",
    "    freq_expected = [norm.cdf(z) for z in Zi]\n",
    "    # Calculating |Fwaited(Xi) - Frac(Xi)| for each value of Xi\n",
    "    Fwaited_minus_Frac = [abs(freq_expected[i] - freq_rel_cumulative[i]) for i in range(len(Xi))]\n",
    "    # Calculating |Fwaited(Xi) - Frac(Xi-1)| for each value of Xi\n",
    "    Fwaited_minus_Frac_1 = [freq_expected[0]] + [abs(freq_expected[i] - freq_rel_cumulative[i-1]) for i in range(1, len(Xi))]\n",
    "    # Calculating Dcalc\n",
    "    max_Fwaited_minus_Frac = max(Fwaited_minus_Frac)\n",
    "    max_Fwaited_minus_Frac_1 = max(Fwaited_minus_Frac_1)\n",
    "    Dcalc = max(max_Fwaited_minus_Frac, max_Fwaited_minus_Frac_1)\n",
    "\n",
    "    # Calculating Dtabela (critical D)\n",
    "    if len(sorted_data) <= 35:\n",
    "        Dtab = ksone.ppf(1 - alpha/2, len(sorted_data))\n",
    "    else:\n",
    "        if alpha == 0.2:\n",
    "            Dtab = 1.07 / np.sqrt(len(sorted_data))\n",
    "        elif alpha == 0.15:\n",
    "            Dtab = 1.14 / np.sqrt(len(sorted_data))\n",
    "        elif alpha == 0.10:\n",
    "            Dtab = 1.22 / np.sqrt(len(sorted_data))\n",
    "        elif alpha == 0.05:\n",
    "            Dtab = 1.36 / np.sqrt(len(sorted_data))\n",
    "        elif alpha == 0.01:\n",
    "            Dtab = 1.63 / np.sqrt(len(sorted_data))\n",
    "\n",
    "    if Dcalc < Dtab:\n",
    "        print(\"Dcalc = %.4f < Dtab = %.4f\" % (Dcalc, Dtab))\n",
    "        print(\"Accept the null hypothesis that the sample follows a normal distribution.\")\n",
    "    else:\n",
    "        print(\"Dcalc = %.4f > Dtab = %.4f\" % (Dcalc, Dtab))\n",
    "        print(\"Reject the null hypothesis that the sample follows a normal distribution\")\n",
    "\n",
    "    # Creating a pandas dataframe with all frequency columns\n",
    "    df = pd.DataFrame({'Xi': Xi, 'FreqAbs': freq_abs,\"FreqRelative\":freq_rel, 'FreqCumulative': freq_cumulative, 'FreqRelCumulative': freq_rel_cumulative, 'Zi': Zi, 'Fwaited': freq_expected,\n",
    "                       '(Fwaited - Frac': Fwaited_minus_Frac, 'Fwaited - Frac-1': Fwaited_minus_Frac_1})\n",
    "    print(df)\n",
    "    return df\n"
   ]
  },
  {
   "cell_type": "code",
   "execution_count": 2,
   "metadata": {},
   "outputs": [
    {
     "name": "stdout",
     "output_type": "stream",
     "text": [
      "Dcalc = 0.0406 < Dtab = 0.1220\n",
      "Accept the null hypothesis that the sample follows a normal distribution.\n",
      "          Xi  FreqAbs  FreqRelative  FreqCumulative  FreqRelCumulative  \\\n",
      "0  -2.305790        1          0.01               1               0.01   \n",
      "1  -2.003084        1          0.01               2               0.02   \n",
      "2  -1.867228        1          0.01               3               0.03   \n",
      "3  -1.590463        1          0.01               4               0.04   \n",
      "4  -1.549033        1          0.01               5               0.05   \n",
      "..       ...      ...           ...             ...                ...   \n",
      "95  1.684816        1          0.01              96               0.96   \n",
      "96  1.720137        1          0.01              97               0.97   \n",
      "97  1.791994        1          0.01              98               0.98   \n",
      "98  1.964917        1          0.01              99               0.99   \n",
      "99  2.057231        1          0.01             100               1.00   \n",
      "\n",
      "          Zi   Fwaited  (Fwaited - Frac  Fwaited - Frac-1  \n",
      "0  -2.466035  0.006831         0.003169          0.006831  \n",
      "1  -2.156956  0.015505         0.004495          0.005505  \n",
      "2  -2.018240  0.021783         0.008217          0.001783  \n",
      "3  -1.735649  0.041313         0.001313          0.011313  \n",
      "4  -1.693347  0.045195         0.004805          0.005195  \n",
      "..       ...       ...              ...               ...  \n",
      "95  1.608576  0.946145         0.013855          0.003855  \n",
      "96  1.644641  0.949978         0.020022          0.010022  \n",
      "97  1.718010  0.957103         0.022897          0.012897  \n",
      "98  1.894573  0.970926         0.019074          0.009074  \n",
      "99  1.988830  0.976640         0.023360          0.013360  \n",
      "\n",
      "[100 rows x 9 columns]\n"
     ]
    },
    {
     "data": {
      "text/plain": [
       "array([[<AxesSubplot: title={'center': 'Xi'}>,\n",
       "        <AxesSubplot: title={'center': 'FreqAbs'}>,\n",
       "        <AxesSubplot: title={'center': 'FreqRelative'}>],\n",
       "       [<AxesSubplot: title={'center': 'FreqCumulative'}>,\n",
       "        <AxesSubplot: title={'center': 'FreqRelCumulative'}>,\n",
       "        <AxesSubplot: title={'center': 'Zi'}>],\n",
       "       [<AxesSubplot: title={'center': 'Fwaited'}>,\n",
       "        <AxesSubplot: title={'center': '(Fwaited - Frac'}>,\n",
       "        <AxesSubplot: title={'center': 'Fwaited - Frac-1'}>]],\n",
       "      dtype=object)"
      ]
     },
     "execution_count": 2,
     "metadata": {},
     "output_type": "execute_result"
    },
    {
     "data": {
      "image/png": "[encoded data removed]",
      "text/plain": [
       "<Figure size 640x480 with 9 Axes>"
      ]
     },
     "metadata": {},
     "output_type": "display_data"
    }
   ],
   "source": [
    "values = np.random.normal(0, 1, 100)\n",
    "sample_mean = np.mean(values)\n",
    "sample_standard_deviation = np.std(values)\n",
    "alpha = 0.1\n",
    "\n",
    "# Call the Kolmogorov-Smirnov test function\n",
    "df = kolmogorov_smirnov(values, sample_mean, sample_standard_deviation, alpha)\n",
    "df.hist()"
   ]
  },
  {
   "cell_type": "markdown",
   "metadata": {},
   "source": [
    "Z-test"
   ]
  },
  {
   "cell_type": "code",
   "execution_count": 30,
   "metadata": {},
   "outputs": [],
   "source": [
    "import numpy as np\n",
    "from scipy import stats\n",
    "\n",
    "def z_test(sample_size, population, sample_mean, population_std_dev, alpha, two_tailed=True):\n",
    "    # Calculate Zcalc\n",
    "    numerator_zcalc = 0\n",
    "    for i in range (len(population)):\n",
    "        numerator_zcalc += sample_mean - population[i]\n",
    "    denominator_zcalc = population_std_dev / np.sqrt(sample_size)\n",
    "    Zcalc = numerator_zcalc / denominator_zcalc\n",
    "    # Find Zcrit\n",
    "    Zcrit = stats.norm.ppf(1 - alpha/2) if two_tailed else stats.norm.ppf(1 - alpha)\n",
    "\n",
    "    # Print the results\n",
    "    print(f\"Zcalc = {Zcalc}\")\n",
    "    print(f\"Zcrit = {Zcrit}\")\n",
    "    #module of the zcalc - zcrit\n",
    "    if abs(Zcalc) < abs(Zcrit):\n",
    "        print(f\"|Zcalc| = {abs(Zcalc)} < Zcrit = {abs(Zcrit)}\")\n",
    "        print(f\"Accept the null hypothesis that the population mean is {sample_mean}\")\n",
    "    else:\n",
    "        print(f\"|Zcalc| = {abs(Zcalc)} > Zcrit = {abs(Zcrit)}\")\n",
    "        print(f\"Reject the null hypothesis that the population mean is {sample_mean}\")\n"
   ]
  },
  {
   "cell_type": "code",
   "execution_count": 31,
   "metadata": {},
   "outputs": [
    {
     "name": "stdout",
     "output_type": "stream",
     "text": [
      "Zcalc = -3.9621615921123386e-15\n",
      "Zcrit = 1.6448536269514722\n",
      "|Zcalc| = 3.9621615921123386e-15 < Zcrit = 1.6448536269514722\n",
      "Accept the null hypothesis that the population mean is 11.2\n"
     ]
    }
   ],
   "source": [
    "\n",
    "population = [4,6,2,10,10,12,14,16,18,20]\n",
    "sample_size = len(population)\n",
    "sample_std_dev = np.std(population)\n",
    "alpha = 0.05\n",
    "sample_mean = np.mean(population)\n",
    "\n",
    "# Call the Z-test function\n",
    "z_test(sample_size, population, sample_mean, sample_std_dev, alpha, two_tailed=False)"
   ]
  },
  {
   "cell_type": "markdown",
   "metadata": {},
   "source": [
    "T-Student Test"
   ]
  },
  {
   "cell_type": "code",
   "execution_count": 32,
   "metadata": {},
   "outputs": [
    {
     "name": "stdout",
     "output_type": "stream",
     "text": [
      "t=-2.262, df=198, cv=1.653, p=0.025\n",
      "Reject the null hypothesis that the means are equal.\n",
      "Reject the null hypothesis that the means are equal.\n"
     ]
    }
   ],
   "source": [
    "# t-test for independent samples\n",
    "from math import sqrt\n",
    "from numpy.random import seed\n",
    "from numpy.random import randn\n",
    "from numpy import mean\n",
    "from scipy.stats import sem\n",
    "from scipy.stats import t\n",
    " \n",
    "# function for calculating the t-test for two independent samples\n",
    "def independent_ttest(data1, data2, alpha):\n",
    " # calculate means\n",
    " mean1, mean2 = mean(data1), mean(data2)\n",
    " # calculate standard errors\n",
    " se1, se2 = sem(data1), sem(data2)\n",
    " # standard error on the difference between the samples\n",
    " sed = sqrt(se1**2.0 + se2**2.0)\n",
    " # calculate the t statistic\n",
    " t_stat = (mean1 - mean2) / sed\n",
    " # degrees of freedom\n",
    " df = len(data1) + len(data2) - 2\n",
    " # calculate the critical value\n",
    " cv = t.ppf(1.0 - alpha, df)\n",
    " # calculate the p-value\n",
    " p = (1.0 - t.cdf(abs(t_stat), df)) * 2.0\n",
    " # return everything\n",
    " return t_stat, df, cv, p\n",
    " \n",
    "# seed the random number generator\n",
    "seed(1)\n",
    "# generate two independent samples\n",
    "data1 = 5 * randn(100) + 50\n",
    "data2 = 5 * randn(100) + 51\n",
    "# calculate the t test\n",
    "alpha = 0.05\n",
    "t_stat, df, cv, p = independent_ttest(data1, data2, alpha)\n",
    "print('t=%.3f, df=%d, cv=%.3f, p=%.3f' % (t_stat, df, cv, p))\n",
    "# interpret via critical value\n",
    "if abs(t_stat) <= cv:\n",
    " print('Accept null hypothesis that the means are equal.')\n",
    "else:\n",
    " print('Reject the null hypothesis that the means are equal.')\n",
    "# interpret via p-value\n",
    "if p > alpha:\n",
    " print('Accept null hypothesis that the means are equal.')\n",
    "else:\n",
    " print('Reject the null hypothesis that the means are equal.')\n"
   ]
  },
  {
   "cell_type": "code",
   "execution_count": 33,
   "metadata": {},
   "outputs": [],
   "source": [
    "def shapiro_wilk(data_values, coefficient_table_Ain, alpha, critical_value_table_W):\n",
    "    # Finding the value of n (sample size)\n",
    "    n = len(data_values)\n",
    "    if n > 30 or n < 3:\n",
    "        return 'Error: Sample size greater than 30 or less than 3'\n",
    "    \n",
    "    # Finding the value of i\n",
    "    i_ = [i for i in range(1, (n // 2) + 1)]\n",
    "    \n",
    "    # Finding the value of n - (i - 1)\n",
    "    n_minus_i_minus_1 = []\n",
    "    for i in i_:\n",
    "        n_minus_i_minus_1.append(n - (i - 1))\n",
    "    \n",
    "    # Finding the value of Ai,n\n",
    "    Ain = []\n",
    "    for i in range(1, (n // 2) + 1):\n",
    "        Ain.append(coefficient_table_Ain.loc[(i - 1, str(n))])\n",
    "\n",
    "    # Finding the value of X(n-(i-1)) in the list of values\n",
    "    X_n_minus_i_minus_1 = []\n",
    "    for i in range(1, (n // 2) + 1):\n",
    "        X_n_minus_i_minus_1.append(data_values[n - (i - 1) - 1])\n",
    "\n",
    "    # Finding the value of Xi in the list of values\n",
    "    Xi = []\n",
    "    for i in i_:\n",
    "        Xi.append(data_values[i - 1])\n",
    "\n",
    "    # Finding the value of Ai,n times (X(n-(i-1)) - Xi)\n",
    "    values_Bi = []\n",
    "    sum_Bi = 0\n",
    "    for i in range(1, (n // 2) + 1):\n",
    "        values_Bi.append(Ain[i - 1] * (X_n_minus_i_minus_1[i - 1] - Xi[i - 1]))\n",
    "        sum_Bi += values_Bi[i - 1]\n",
    "\n",
    "    # Finding the sample value of squared absolute deviations (or the variance times n-1)\n",
    "    denominator_Wcalc = np.var(data_values, ddof=1) * (n - 1)\n",
    "\n",
    "    # Finding the value of W calculated\n",
    "    Wcalc = (sum_Bi**2) / denominator_Wcalc\n",
    "\n",
    "    # Finding the critical W value (W critical)\n",
    "    Wcrit = critical_value_table_W.loc[(n - 3, str(alpha))]\n",
    "\n",
    "    if Wcrit < Wcalc:\n",
    "        print(\"Wcrit = %.4f < Wcalc = %.4f\" % (Wcrit, Wcalc))\n",
    "        print(f\"Accept the null hypothesis H0 that the sample follows a normal distribution N({np.mean(data_values), np.var(data_values)}).\")\n",
    "    else:\n",
    "        print(\"Wcrit = %.4f > Wcalc = %.4f\" % (Wcrit, Wcalc))\n",
    "        print(\"Reject the null hypothesis H0 that the sample follows a normal distribution\")\n",
    "\n",
    "    # Creating a pandas DataFrame with all the columns\n",
    "    df = pd.DataFrame({'i': i_, 'n - (i - 1)': n_minus_i_minus_1, 'Ai,n': Ain, 'X(n-(i-1))': X_n_minus_i_minus_1,\n",
    "                       'Xi': Xi, 'Bi Values': values_Bi})\n",
    "\n",
    "    print(df)\n",
    "    return df\n"
   ]
  },
  {
   "cell_type": "code",
   "execution_count": 34,
   "metadata": {},
   "outputs": [
    {
     "name": "stdout",
     "output_type": "stream",
     "text": [
      "Wcrit = 0.8840 < Wcalc = 0.9329\n",
      "Accept the null hypothesis H0 that the sample follows a normal distribution N((27.083333333333332, 66.3263888888889)).\n",
      "     i  n - (i - 1)    Ai,n  X(n-(i-1))  Xi  Bi Values\n",
      "0    1           24  0.4493          46  13    14.8269\n",
      "1    2           23  0.3098          39  19     6.1960\n",
      "2    3           22  0.2554          36  15     5.3634\n",
      "3    4           21  0.2145          36  11     5.3625\n",
      "4    5           20  0.1807          34  21     2.3491\n",
      "5    6           19  0.1512          32  23     1.3608\n",
      "6    7           18  0.1245          32  21     1.3695\n",
      "7    8           17  0.0997          31  23     0.7976\n",
      "8    9           16  0.0764          30  24     0.4584\n",
      "9   10           15  0.0539          30  24     0.3234\n",
      "10  11           14  0.0321          29  25     0.1284\n",
      "11  12           13  0.0107          28  28     0.0000\n"
     ]
    },
    {
     "data": {
      "text/plain": [
       "array([[<Axes: title={'center': 'i'}>,\n",
       "        <Axes: title={'center': 'n - (i - 1)'}>],\n",
       "       [<Axes: title={'center': 'Ai,n'}>,\n",
       "        <Axes: title={'center': 'X(n-(i-1))'}>],\n",
       "       [<Axes: title={'center': 'Xi'}>,\n",
       "        <Axes: title={'center': 'Bi Values'}>]], dtype=object)"
      ]
     },
     "execution_count": 34,
     "metadata": {},
     "output_type": "execute_result"
    },
    {
     "data": {
      "image/png": "[encoded data removed]",
      "text/plain": [
       "<Figure size 640x480 with 6 Axes>"
      ]
     },
     "metadata": {},
     "output_type": "display_data"
    }
   ],
   "source": [
    "import pandas as pd\n",
    "\n",
    "# Read the coefficients table (Coeficiente.csv) and critical values table (tabela_Wcrit_Shapiro.csv) from CSV files\n",
    "coefficients_Ain = pd.read_csv('Coeficiente.csv', sep=';', decimal=',')\n",
    "\n",
    "critical_values_table = pd.read_csv('tabela.csv', sep=';', decimal=',')\n",
    "critical_values_table = critical_values_table.drop(['Unnamed: 10'], axis=1)\n",
    "critical_values_table = critical_values_table.drop(28)\n",
    "\n",
    "# Convert the \"tamanho n\" column to integer type\n",
    "critical_values_table[\"tamanho n\"] = critical_values_table[\"tamanho n\"].astype(int)\n",
    "valores = np.random.normal(0, 1, 100)\n",
    "alpha = 0.01\n",
    "\n",
    "# Use the shapiro_wilk function with the updated values\n",
    "df = shapiro_wilk(valores, coefficients_Ain, alpha, critical_values_table)\n",
    "df.hist()"
   ]
  }
 ],
 "metadata": {
  "kernelspec": {
   "display_name": "Python 3",
   "language": "python",
   "name": "python3"
  },
  "language_info": {
   "codemirror_mode": {
    "name": "ipython",
    "version": 3
   },
   "file_extension": ".py",
   "mimetype": "text/x-python",
   "name": "python",
   "nbconvert_exporter": "python",
   "pygments_lexer": "ipython3",
   "version": "3.10.7"
  }
 },
 "nbformat": 4,
 "nbformat_minor": 2
}
